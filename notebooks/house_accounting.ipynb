{
 "cells": [
  {
   "cell_type": "markdown",
   "id": "d82308df-4345-4bd4-b2ea-736fa5d1097a",
   "metadata": {
    "tags": []
   },
   "source": [
    "## Initial settings"
   ]
  },
  {
   "cell_type": "code",
   "execution_count": null,
   "id": "b872fe87-8928-4a50-9a39-c32bb3de577e",
   "metadata": {},
   "outputs": [],
   "source": [
    "%load_ext autoreload\n",
    "%load_ext lab_black\n",
    "%autoreload 2\n",
    "\n",
    "import os\n",
    "import sys\n",
    "\n",
    "import warnings\n",
    "\n",
    "warnings.simplefilter(action=\"ignore\", category=FutureWarning)\n",
    "warnings.simplefilter(action=\"ignore\", category=UserWarning)\n",
    "from pandas.core.common import SettingWithCopyWarning\n",
    "\n",
    "warnings.simplefilter(action=\"ignore\", category=SettingWithCopyWarning)\n",
    "\n",
    "sys.path.append(os.getenv(\"GLOBAL_LIBRARIES_PATH\", \"\"))\n",
    "sys.path = list(set(sys.path))\n",
    "from house_accounting.db_handlers import AccountingTable\n",
    "from house_accounting.widgets import AccountingDBManager\n",
    "from config import global_config\n",
    "\n",
    "original_pmt_storage = os.getenv(\"PMT_STG_PATH\")\n",
    "pmt_storage = os.path.join(original_pmt_storage, \"house_accounting\")\n",
    "os.makedirs(pmt_storage, exist_ok=True)"
   ]
  },
  {
   "cell_type": "markdown",
   "id": "b92b4203-7464-4476-a45a-9f8bf3f1f9e4",
   "metadata": {
    "tags": []
   },
   "source": [
    "## Inputs"
   ]
  },
  {
   "cell_type": "code",
   "execution_count": null,
   "id": "41caafcc-6b3f-4bec-847c-4d4210a973aa",
   "metadata": {},
   "outputs": [],
   "source": [
    "generate_example = True\n",
    "\n",
    "if generate_example:\n",
    "    db_path = os.path.join(pmt_storage, global_config[\"example_db_name\"])\n",
    "    if os.path.exists(db_path):\n",
    "        os.remove(db_path)\n",
    "\n",
    "    acc_table = AccountingTable(db_path)\n",
    "    acc_table.generate_default_db()\n",
    "else:\n",
    "    db_path = os.path.join(pmt_storage, global_config[\"db_name\"])\n",
    "    acc_table = AccountingTable(db_path)"
   ]
  },
  {
   "cell_type": "markdown",
   "id": "feec7e23-1d43-4d2f-b8fe-ff54c58f1bdf",
   "metadata": {
    "tags": []
   },
   "source": [
    "## Widgets interactions"
   ]
  },
  {
   "cell_type": "code",
   "execution_count": null,
   "id": "bbd9bbd2-d416-4abb-a899-5becda38f38f",
   "metadata": {},
   "outputs": [],
   "source": [
    "wid = AccountingDBManager(pmt_storage, acc_table)\n",
    "wid.display()"
   ]
  }
 ],
 "metadata": {
  "kernelspec": {
   "display_name": "Python 3 (ipykernel)",
   "language": "python",
   "name": "python3"
  },
  "language_info": {
   "codemirror_mode": {
    "name": "ipython",
    "version": 3
   },
   "file_extension": ".py",
   "mimetype": "text/x-python",
   "name": "python",
   "nbconvert_exporter": "python",
   "pygments_lexer": "ipython3",
   "version": "3.10.5"
  }
 },
 "nbformat": 4,
 "nbformat_minor": 5
}
