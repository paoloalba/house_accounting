{
 "cells": [
  {
   "cell_type": "markdown",
   "id": "d82308df-4345-4bd4-b2ea-736fa5d1097a",
   "metadata": {
    "tags": []
   },
   "source": [
    "## Initial settings"
   ]
  },
  {
   "cell_type": "code",
   "execution_count": null,
   "id": "91112c92-42c3-4534-931e-498aac996754",
   "metadata": {},
   "outputs": [],
   "source": [
    "%load_ext autoreload\n",
    "%load_ext lab_black\n",
    "%autoreload 2"
   ]
  },
  {
   "cell_type": "code",
   "execution_count": null,
   "id": "b872fe87-8928-4a50-9a39-c32bb3de577e",
   "metadata": {},
   "outputs": [],
   "source": [
    "import os\n",
    "import sys\n",
    "\n",
    "import warnings\n",
    "\n",
    "warnings.simplefilter(action=\"ignore\", category=FutureWarning)\n",
    "\n",
    "sys.path.append(os.getenv(\"GLOBAL_LIBRARIES_PATH\", \"\"))\n",
    "sys.path = list(set(sys.path))\n",
    "from house_accounting.db_handlers import AccountingTable\n",
    "from house_accounting.widgets import AccountingDBManager\n",
    "\n",
    "try:\n",
    "    from generic_helpers.generic import map_row\n",
    "except:\n",
    "    pass\n",
    "\n",
    "original_pmt_storage = os.getenv(\"PMT_STG_PATH\")\n",
    "pmt_storage = os.path.join(original_pmt_storage, \"house_accounting\")"
   ]
  },
  {
   "cell_type": "markdown",
   "id": "b92b4203-7464-4476-a45a-9f8bf3f1f9e4",
   "metadata": {
    "tags": []
   },
   "source": [
    "## Inputs"
   ]
  },
  {
   "cell_type": "code",
   "execution_count": null,
   "id": "94628ffb-ca59-47a0-af9f-53205661d75d",
   "metadata": {},
   "outputs": [],
   "source": [
    "db_path = os.path.join(pmt_storage, \"example_cashflows.db\")\n",
    "acc_table = AccountingTable(db_path)"
   ]
  },
  {
   "cell_type": "markdown",
   "id": "229914a6-3f4a-439b-8c0b-b2c01a343428",
   "metadata": {
    "tags": []
   },
   "source": [
    "## Manual changes to db"
   ]
  },
  {
   "cell_type": "code",
   "execution_count": null,
   "id": "4eeb232b-9289-49c4-bdd2-894aa5c63448",
   "metadata": {},
   "outputs": [],
   "source": [
    "if False:\n",
    "    old_acc_table = AccountingTable(db_path)\n",
    "    df = old_acc_table.get_df()\n",
    "\n",
    "    df = df.apply(map_row, axis=1)\n",
    "    \n",
    "    new_file_name = os.path.join(pmt_storage, \"NEW-\"+os.path.basename(db_path))\n",
    "\n",
    "    acc_table = AccountingTable(\n",
    "        new_file_name\n",
    "    )\n",
    "\n",
    "    acc_table.overwrite_db_with_df(df)\n",
    "    df = acc_table.get_df()\n",
    "    df"
   ]
  },
  {
   "cell_type": "markdown",
   "id": "9fdaf206-af17-4192-a2a0-0be4e55d87f7",
   "metadata": {
    "tags": []
   },
   "source": [
    "## Generate example db"
   ]
  },
  {
   "cell_type": "code",
   "execution_count": null,
   "id": "41caafcc-6b3f-4bec-847c-4d4210a973aa",
   "metadata": {},
   "outputs": [],
   "source": [
    "if False:\n",
    "    if os.path.exists(db_path):\n",
    "        os.remove(db_path)\n",
    "    acc_table.generate_default_db()"
   ]
  },
  {
   "cell_type": "markdown",
   "id": "feec7e23-1d43-4d2f-b8fe-ff54c58f1bdf",
   "metadata": {
    "tags": []
   },
   "source": [
    "## Widgets interactions"
   ]
  },
  {
   "cell_type": "code",
   "execution_count": null,
   "id": "bbd9bbd2-d416-4abb-a899-5becda38f38f",
   "metadata": {},
   "outputs": [],
   "source": [
    "wid = AccountingDBManager(pmt_storage, acc_table)\n",
    "wid.display()"
   ]
  },
  {
   "cell_type": "markdown",
   "id": "f625ccbe-5381-4cd8-9f5c-5bfb98914028",
   "metadata": {
    "tags": []
   },
   "source": [
    "## Manual Analysis"
   ]
  },
  {
   "cell_type": "code",
   "execution_count": null,
   "id": "4e917d83-9526-4f02-a6ca-7bb52f67be62",
   "metadata": {},
   "outputs": [],
   "source": [
    "fil_df = df[df.main_category == \"Income\"]\n",
    "fil_df = fil_df[fil_df.sub_category == \"Generic\"]\n",
    "\n",
    "fil_df = fil_df[fil_df.tag.str.contains(\"presents\")]\n",
    "\n",
    "fil_df.sort_values(\"date\", inplace=True, ascending=False)\n",
    "\n",
    "with pd.option_context(\"display.max_rows\", 169):\n",
    "    display(fil_df)"
   ]
  },
  {
   "cell_type": "code",
   "execution_count": null,
   "id": "1a4ba7cc-6e34-4eb2-945a-affb492fd8fa",
   "metadata": {},
   "outputs": [],
   "source": [
    "import pandas as pd\n",
    "from IPython.display import display\n",
    "\n",
    "df, past_df, min_date = wid.get_filtered_df()\n",
    "\n",
    "with pd.option_context(\"display.max_rows\", 10):\n",
    "    display(df)"
   ]
  }
 ],
 "metadata": {
  "kernelspec": {
   "display_name": "Python 3 (ipykernel)",
   "language": "python",
   "name": "python3"
  },
  "language_info": {
   "codemirror_mode": {
    "name": "ipython",
    "version": 3
   },
   "file_extension": ".py",
   "mimetype": "text/x-python",
   "name": "python",
   "nbconvert_exporter": "python",
   "pygments_lexer": "ipython3",
   "version": "3.9.10"
  }
 },
 "nbformat": 4,
 "nbformat_minor": 5
}
