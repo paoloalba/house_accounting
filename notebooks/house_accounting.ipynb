{
 "cells": [
  {
   "cell_type": "markdown",
   "id": "d82308df-4345-4bd4-b2ea-736fa5d1097a",
   "metadata": {
    "tags": []
   },
   "source": [
    "## Initial settings"
   ]
  },
  {
   "cell_type": "code",
   "execution_count": 1,
   "id": "91112c92-42c3-4534-931e-498aac996754",
   "metadata": {},
   "outputs": [],
   "source": [
    "%load_ext autoreload\n",
    "%load_ext lab_black\n",
    "%autoreload 2"
   ]
  },
  {
   "cell_type": "code",
   "execution_count": 2,
   "id": "b872fe87-8928-4a50-9a39-c32bb3de577e",
   "metadata": {},
   "outputs": [],
   "source": [
    "import os\n",
    "import sys\n",
    "\n",
    "import warnings\n",
    "\n",
    "warnings.simplefilter(action=\"ignore\", category=FutureWarning)\n",
    "\n",
    "sys.path.append(os.getenv(\"GLOBAL_LIBRARIES_PATH\", \"\"))\n",
    "sys.path = list(set(sys.path))\n",
    "from house_accounting.db_handlers import AccountingTable\n",
    "from house_accounting.widgets import AccountingDBManager\n",
    "\n",
    "original_pmt_storage = os.getenv(\"PMT_STG_PATH\")\n",
    "pmt_storage = os.path.join(original_pmt_storage, \"house_accounting\")"
   ]
  },
  {
   "cell_type": "markdown",
   "id": "b92b4203-7464-4476-a45a-9f8bf3f1f9e4",
   "metadata": {
    "tags": []
   },
   "source": [
    "## Inputs"
   ]
  },
  {
   "cell_type": "code",
   "execution_count": 3,
   "id": "94628ffb-ca59-47a0-af9f-53205661d75d",
   "metadata": {},
   "outputs": [],
   "source": [
    "db_path = os.path.join(pmt_storage, \"example_cashflows.db\")\n",
    "acc_table = AccountingTable(db_path)"
   ]
  },
  {
   "cell_type": "markdown",
   "id": "9fdaf206-af17-4192-a2a0-0be4e55d87f7",
   "metadata": {
    "tags": []
   },
   "source": [
    "## Generate example db"
   ]
  },
  {
   "cell_type": "code",
   "execution_count": 4,
   "id": "41caafcc-6b3f-4bec-847c-4d4210a973aa",
   "metadata": {},
   "outputs": [],
   "source": [
    "if os.path.exists(db_path):\n",
    "    os.remove(db_path)\n",
    "acc_table.generate_default_db()"
   ]
  },
  {
   "cell_type": "markdown",
   "id": "feec7e23-1d43-4d2f-b8fe-ff54c58f1bdf",
   "metadata": {},
   "source": [
    "## Widgets interactions"
   ]
  },
  {
   "cell_type": "code",
   "execution_count": 5,
   "id": "bbd9bbd2-d416-4abb-a899-5becda38f38f",
   "metadata": {},
   "outputs": [
    {
     "data": {
      "application/vnd.jupyter.widget-view+json": {
       "model_id": "15385ccd2c4743589056c7ebdb1c88e0",
       "version_major": 2,
       "version_minor": 0
      },
      "text/plain": [
       "VBox(children=(HBox(children=(VBox(children=(Button(description='Clear all fields', icon='check', layout=Layou…"
      ]
     },
     "metadata": {},
     "output_type": "display_data"
    }
   ],
   "source": [
    "wid = AccountingDBManager(pmt_storage, acc_table)\n",
    "wid.display()"
   ]
  }
 ],
 "metadata": {
  "kernelspec": {
   "display_name": "Python 3 (ipykernel)",
   "language": "python",
   "name": "python3"
  },
  "language_info": {
   "codemirror_mode": {
    "name": "ipython",
    "version": 3
   },
   "file_extension": ".py",
   "mimetype": "text/x-python",
   "name": "python",
   "nbconvert_exporter": "python",
   "pygments_lexer": "ipython3",
   "version": "3.9.10"
  }
 },
 "nbformat": 4,
 "nbformat_minor": 5
}
